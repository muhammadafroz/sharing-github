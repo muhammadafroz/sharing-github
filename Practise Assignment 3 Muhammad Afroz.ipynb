{
 "cells": [
  {
   "cell_type": "markdown",
   "metadata": {},
   "source": [
    "# Q1:"
   ]
  },
  {
   "cell_type": "markdown",
   "metadata": {},
   "source": [
    "Think of at least three kinds of your favorite pizza. Store these pizza names in a list, and then use a for loop to print the name of each pizza."
   ]
  },
  {
   "cell_type": "code",
   "execution_count": 13,
   "metadata": {},
   "outputs": [],
   "source": [
    "list_pizza=['fajita pizza', 'spicy pizza', 'tikka pizza']"
   ]
  },
  {
   "cell_type": "code",
   "execution_count": 14,
   "metadata": {},
   "outputs": [
    {
     "name": "stdout",
     "output_type": "stream",
     "text": [
      "fajita pizza\n",
      "spicy pizza\n",
      "tikka pizza\n"
     ]
    }
   ],
   "source": [
    "for p in list_pizza:\n",
    "    print(p)"
   ]
  },
  {
   "cell_type": "markdown",
   "metadata": {},
   "source": [
    "# Q2"
   ]
  },
  {
   "cell_type": "markdown",
   "metadata": {},
   "source": [
    "Start with your last question , Modify your for loop to print a sentence using the name of the pizza\n",
    "instead of printing just the name of the pizza. For each pizza you should\n",
    "have one line of output containing a simple statement like I like pepperoni\n",
    "pizza."
   ]
  },
  {
   "cell_type": "code",
   "execution_count": 15,
   "metadata": {},
   "outputs": [],
   "source": [
    "list_pizza=['fajita pizza', 'spicy pizza', 'tikka pizza']"
   ]
  },
  {
   "cell_type": "code",
   "execution_count": 16,
   "metadata": {},
   "outputs": [
    {
     "name": "stdout",
     "output_type": "stream",
     "text": [
      "i like fajita pizza\n",
      "i hate fajita pizza\n",
      "i like spicy pizza\n",
      "i hate spicy pizza\n",
      "i like tikka pizza\n",
      "i hate tikka pizza\n"
     ]
    }
   ],
   "source": [
    "for p in list_pizza:\n",
    "    print('i like', (p))\n",
    "    print('i hate', (p))"
   ]
  },
  {
   "cell_type": "markdown",
   "metadata": {},
   "source": [
    "# Q3:"
   ]
  },
  {
   "cell_type": "markdown",
   "metadata": {},
   "source": [
    "Use a for loop to print the numbers from 1 to 20,\n",
    "inclusive."
   ]
  },
  {
   "cell_type": "code",
   "execution_count": 17,
   "metadata": {},
   "outputs": [
    {
     "name": "stdout",
     "output_type": "stream",
     "text": [
      "1\n",
      "2\n",
      "3\n",
      "4\n",
      "5\n",
      "6\n",
      "7\n",
      "8\n",
      "9\n",
      "10\n",
      "11\n",
      "12\n",
      "13\n",
      "14\n",
      "15\n",
      "16\n",
      "17\n",
      "18\n",
      "19\n"
     ]
    }
   ],
   "source": [
    "for a in range(1,20):\n",
    "    print(a)"
   ]
  },
  {
   "cell_type": "markdown",
   "metadata": {},
   "source": [
    "# Q4:"
   ]
  },
  {
   "cell_type": "markdown",
   "metadata": {},
   "source": [
    "Use the third argument of the range() function to make a list\n",
    "of the odd numbers from 1 to 20. Use a for loop to print each number."
   ]
  },
  {
   "cell_type": "code",
   "execution_count": 18,
   "metadata": {},
   "outputs": [],
   "source": [
    "a = list(range(1,20,2))"
   ]
  },
  {
   "cell_type": "code",
   "execution_count": 19,
   "metadata": {},
   "outputs": [
    {
     "name": "stdout",
     "output_type": "stream",
     "text": [
      "1\n",
      "3\n",
      "5\n",
      "7\n",
      "9\n",
      "11\n",
      "13\n",
      "15\n",
      "17\n",
      "19\n"
     ]
    }
   ],
   "source": [
    "for i in a:\n",
    "    print(i)"
   ]
  },
  {
   "cell_type": "code",
   "execution_count": null,
   "metadata": {},
   "outputs": [],
   "source": []
  },
  {
   "cell_type": "markdown",
   "metadata": {},
   "source": [
    "# Q5:"
   ]
  },
  {
   "cell_type": "markdown",
   "metadata": {},
   "source": [
    "Make a list of the multiples of 3 from 3 to 30. Use a for loop to\n",
    "print the numbers in your list."
   ]
  },
  {
   "cell_type": "code",
   "execution_count": 20,
   "metadata": {},
   "outputs": [],
   "source": [
    "mutiple_of_3=[]"
   ]
  },
  {
   "cell_type": "code",
   "execution_count": 21,
   "metadata": {},
   "outputs": [],
   "source": [
    "for y in range (1,11):\n",
    "    x=3*y\n",
    "    mutiple_of_3.append(x)"
   ]
  },
  {
   "cell_type": "code",
   "execution_count": 22,
   "metadata": {},
   "outputs": [
    {
     "name": "stdout",
     "output_type": "stream",
     "text": [
      "[3, 6, 9, 12, 15, 18, 21, 24, 27, 30]\n"
     ]
    }
   ],
   "source": [
    "print(mutiple_of_3)"
   ]
  },
  {
   "cell_type": "markdown",
   "metadata": {},
   "source": [
    "# Q6:"
   ]
  },
  {
   "cell_type": "markdown",
   "metadata": {},
   "source": [
    "A number raised to the third power is called a cube. For example,\n",
    "the cube of 2 is written as 2**3 in Python. Make a list of the first 10 cubes (that\n",
    "is, the cube of each integer from 1 through 10), and use a for loop to print out\n",
    "the value of each cube"
   ]
  },
  {
   "cell_type": "code",
   "execution_count": 23,
   "metadata": {},
   "outputs": [],
   "source": [
    "cubes = []"
   ]
  },
  {
   "cell_type": "code",
   "execution_count": 24,
   "metadata": {},
   "outputs": [],
   "source": [
    "for number in range(1, 11):\n",
    "    cube = number**3\n",
    "    cubes.append(cube)"
   ]
  },
  {
   "cell_type": "code",
   "execution_count": 26,
   "metadata": {},
   "outputs": [
    {
     "name": "stdout",
     "output_type": "stream",
     "text": [
      "1\n",
      "8\n",
      "27\n",
      "64\n",
      "125\n",
      "216\n",
      "343\n",
      "512\n",
      "729\n",
      "1000\n"
     ]
    }
   ],
   "source": [
    "for cube in cubes:\n",
    "    print(cube)"
   ]
  },
  {
   "cell_type": "markdown",
   "metadata": {},
   "source": [
    "# Q7:"
   ]
  },
  {
   "cell_type": "markdown",
   "metadata": {},
   "source": [
    "###### Make a python program that conatains your nine favourite dishes in a list called foods.\n",
    "\n",
    "###### Print the message, The first three items in the list are:. \n",
    "###### Then use a slice to print the first three items from that program’s list.\n",
    "\n",
    "###### Print the message, Three items from the middle of the list are:\n",
    "###### Use a slice to print three items from the middle of the list.\n",
    "\n",
    "###### Print the message, The last three items in the list are:\n",
    "###### Use a slice to print the last three items in the list."
   ]
  },
  {
   "cell_type": "code",
   "execution_count": 36,
   "metadata": {},
   "outputs": [],
   "source": [
    "dishes = [\"Biryani\", \"Broast\", \"Macroni\", \"Qorma\", \"Karahi\", \"Tikka\", \"Kabab\", \"Fried Rice\", \"BBQ\"]"
   ]
  },
  {
   "cell_type": "code",
   "execution_count": 37,
   "metadata": {},
   "outputs": [
    {
     "name": "stdout",
     "output_type": "stream",
     "text": [
      "Biryani\n",
      "Broast\n",
      "Macroni\n",
      "\n",
      "Three items from the middle of the list are:\n",
      "\n"
     ]
    }
   ],
   "source": [
    "for item in dishes[:3]:\n",
    "    print(item)\n",
    "    \n",
    "print(\"\\nThree items from the middle of the list are:\\n\")"
   ]
  },
  {
   "cell_type": "code",
   "execution_count": 38,
   "metadata": {},
   "outputs": [
    {
     "name": "stdout",
     "output_type": "stream",
     "text": [
      "Qorma\n",
      "Karahi\n",
      "Tikka\n",
      "\n",
      "The last three items in the list are:\n",
      "\n"
     ]
    }
   ],
   "source": [
    "for item in dishes[3:6]:\n",
    "    print(item)\n",
    "    \n",
    "print(\"\\nThe last three items in the list are:\\n\")"
   ]
  },
  {
   "cell_type": "code",
   "execution_count": 39,
   "metadata": {},
   "outputs": [
    {
     "name": "stdout",
     "output_type": "stream",
     "text": [
      "Kabab\n",
      "Fried Rice\n",
      "BBQ\n"
     ]
    }
   ],
   "source": [
    "for item in dishes[6:]:\n",
    "    print(item)"
   ]
  },
  {
   "cell_type": "markdown",
   "metadata": {},
   "source": [
    "# Q8:"
   ]
  },
  {
   "cell_type": "markdown",
   "metadata": {},
   "source": [
    "### Start with your program from your last Question8.\n",
    "###### Make a copy of the list of foods, and call it friend_foods.\n",
    "###### Then, do the following:\n",
    "######    Add a new dish to the original list.\n",
    "######    Add a different dish to the list friend_foodss.\n",
    "######    Prove that you have two separate lists. \n",
    "###### Print the message, My favorite pizzas are: and then use a for loop to print the first list. \n",
    "###### Print the message,\n",
    "###### My friend’s favorite foods are:, and then use a for loop to print the second list.\n",
    "    \n",
    "##### NOTE: Make sure each new dish is stored in the appropriate list."
   ]
  },
  {
   "cell_type": "code",
   "execution_count": 58,
   "metadata": {},
   "outputs": [],
   "source": [
    "food_list=[\"biryani\", \"broast\", \"fried rice\", \"korma\", \"karahi\", \"haleem\", \"tikkah\" , \"kabab\", \"macroni\"]"
   ]
  },
  {
   "cell_type": "code",
   "execution_count": 59,
   "metadata": {},
   "outputs": [],
   "source": [
    "friend_list= food_list.copy()"
   ]
  },
  {
   "cell_type": "code",
   "execution_count": 60,
   "metadata": {},
   "outputs": [
    {
     "name": "stdout",
     "output_type": "stream",
     "text": [
      "['biryani', 'broast', 'fried rice', 'korma', 'karahi', 'haleem', 'tikkah', 'kabab', 'macroni']\n"
     ]
    }
   ],
   "source": [
    "print(friend_list)"
   ]
  },
  {
   "cell_type": "code",
   "execution_count": 61,
   "metadata": {},
   "outputs": [
    {
     "name": "stdout",
     "output_type": "stream",
     "text": [
      "['biryani', 'broast', 'fried rice', 'korma', 'karahi', 'haleem', 'tikkah', 'kabab', 'macroni', 'pasta']\n"
     ]
    }
   ],
   "source": [
    "friend_list.append(\"pasta\")\n",
    "print(friend_list)"
   ]
  },
  {
   "cell_type": "code",
   "execution_count": 62,
   "metadata": {},
   "outputs": [
    {
     "name": "stdout",
     "output_type": "stream",
     "text": [
      "['biryani', 'broast', 'fried rice', 'korma', 'karahi', 'haleem', 'tikkah', 'kabab', 'macroni', 'roti']\n"
     ]
    }
   ],
   "source": [
    "food_list.append(\"roti\")\n",
    "print(food_list)"
   ]
  },
  {
   "cell_type": "code",
   "execution_count": 63,
   "metadata": {},
   "outputs": [
    {
     "name": "stdout",
     "output_type": "stream",
     "text": [
      "MY FAVOURITE FOOD ARE,  biryani\n",
      "MY FAVOURITE FOOD ARE,  broast\n",
      "MY FAVOURITE FOOD ARE,  fried rice\n",
      "MY FAVOURITE FOOD ARE,  korma\n",
      "MY FAVOURITE FOOD ARE,  karahi\n",
      "MY FAVOURITE FOOD ARE,  haleem\n",
      "MY FAVOURITE FOOD ARE,  tikkah\n",
      "MY FAVOURITE FOOD ARE,  kabab\n",
      "MY FAVOURITE FOOD ARE,  macroni\n",
      "MY FAVOURITE FOOD ARE,  roti\n"
     ]
    }
   ],
   "source": [
    " for f in food_list:\n",
    "    print(f'MY FAVOURITE FOOD ARE,  {f}')"
   ]
  },
  {
   "cell_type": "code",
   "execution_count": 64,
   "metadata": {},
   "outputs": [
    {
     "name": "stdout",
     "output_type": "stream",
     "text": [
      "my friend favourit food are, biryani\n",
      "my friend favourit food are, broast\n",
      "my friend favourit food are, fried rice\n",
      "my friend favourit food are, korma\n",
      "my friend favourit food are, karahi\n",
      "my friend favourit food are, haleem\n",
      "my friend favourit food are, tikkah\n",
      "my friend favourit food are, kabab\n",
      "my friend favourit food are, macroni\n",
      "my friend favourit food are, pasta\n"
     ]
    }
   ],
   "source": [
    " for fl in friend_list:\n",
    "        print(f'my friend favourit food are, {fl}')"
   ]
  },
  {
   "cell_type": "markdown",
   "metadata": {},
   "source": [
    "# Q9:"
   ]
  },
  {
   "cell_type": "markdown",
   "metadata": {},
   "source": [
    "Take a user input from console line.Store it in a variable called Alien_color.\n",
    "\n",
    "If the alien’s color is red, print a statement that the player just earned 5 points for shooting the alien.\n",
    "\n",
    "If the alien’s color isn’t green, print a statement that the player just earned 10 points.\n",
    "\n",
    "If the alien's color isn't red or green , print a statment :, Alien is no more....."
   ]
  },
  {
   "cell_type": "code",
   "execution_count": 65,
   "metadata": {},
   "outputs": [
    {
     "name": "stdout",
     "output_type": "stream",
     "text": [
      "Enter A Color : \n",
      "you just earned 10 points for shooting tha alien.\n"
     ]
    }
   ],
   "source": [
    "Alien_color = input(\"Enter A Color : \")\n",
    "if 'red' in Alien_color:\n",
    "    print(\"you just earned 5 points for shooting tha alien.\")\n",
    "elif 'green' not in Alien_color:\n",
    "    print(\"you just earned 10 points for shooting tha alien.\")\n",
    "else:\n",
    "    print(\"Alien is no more.\")"
   ]
  },
  {
   "cell_type": "markdown",
   "metadata": {},
   "source": [
    "# Q10:"
   ]
  },
  {
   "cell_type": "markdown",
   "metadata": {},
   "source": [
    "Write an if-elif-else chain that determines a person’s\n",
    "stage of life. Set a value for the variable age, and then:\n",
    "    \n",
    "•\t If the person is less than 2 years old, print a message that the person is a baby.\n",
    "\n",
    "•\t If the person is at least 2 years old but less than 4, print a message that the person is a toddler.\n",
    "\n",
    "•\t If the person is at least 4 years old but less than 13, print a message that the person is a kid.\n",
    "\n",
    "•\t If the person is at least 13 years old but less than 20, print a message that the person is a teenager.\n",
    "\n",
    "•\t If the person is at least 20 years old but less than 65, print a message that the person is an adult.\n",
    "\n",
    "•\t If the person is age 65 or older, print a message that the person is an elder."
   ]
  },
  {
   "cell_type": "code",
   "execution_count": 66,
   "metadata": {},
   "outputs": [
    {
     "name": "stdout",
     "output_type": "stream",
     "text": [
      "Enter youur age: 18\n",
      "The person is a teenager.\n"
     ]
    }
   ],
   "source": [
    "age=int(input('Enter youur age: '))\n",
    "if age<2:\n",
    "    print('The person is a baby.')\n",
    "elif age<=2 or age<4:\n",
    "    print('The person is a toddler.')\n",
    "elif age<=4 or age<13:\n",
    "    print('The person is a kid.')\n",
    "elif age<=13 or age<20:\n",
    "    print('The person is a teenager.')\n",
    "elif age<=20 or age<65:\n",
    "    print('The person is an adult.')\n",
    "else:\n",
    "    print('The person is an elder.')"
   ]
  },
  {
   "cell_type": "markdown",
   "metadata": {},
   "source": [
    "# Q11:"
   ]
  },
  {
   "cell_type": "markdown",
   "metadata": {},
   "source": [
    "Do the following to create a program that simulates how websites ensure that everyone has a unique username.\n",
    "\n",
    "•\t Make a list of five or more usernames called current_users.\n",
    "\n",
    "•\t Make another list of five usernames called new_users. \n",
    "Make sure one or two of the new usernames are also in the current_users list.\n",
    "\n",
    "•\t Loop through the new_users list to see if each new username has already been used. \n",
    "If it has, print a message that the person will need to enter a new username. \n",
    "If a username has not been used, print a message saying that the username is available.\n",
    "\n",
    "•\t Make sure your comparison is case insensitive. If 'John' has been used, 'JOHN' should not be accepted."
   ]
  },
  {
   "cell_type": "code",
   "execution_count": 68,
   "metadata": {},
   "outputs": [],
   "source": [
    "current_users=['Muneeb','Shaheer','Abdullah','Hassan','Farhan']"
   ]
  },
  {
   "cell_type": "code",
   "execution_count": 71,
   "metadata": {},
   "outputs": [],
   "source": [
    "new_users=['Misbah','Askari','Waleed','Sameer','Shahzaib']"
   ]
  },
  {
   "cell_type": "code",
   "execution_count": 72,
   "metadata": {},
   "outputs": [
    {
     "name": "stdout",
     "output_type": "stream",
     "text": [
      "User name 'Misbah' is available\n",
      "User name 'Askari' is available\n",
      "User name 'Waleed' is available\n",
      "User name 'Sameer' is available\n",
      "User name 'Shahzaib' is available\n"
     ]
    }
   ],
   "source": [
    "for name in new_users:\n",
    "    if name in current_users:\n",
    "        x=name.upper()\n",
    "        print ('Username',\"'\"+x+\"'\",'should  not be accepted.Please enter new username.')\n",
    "    else:\n",
    "        y=name.title()\n",
    "        print('User name',\"'\"+y+\"'\",'is available') "
   ]
  },
  {
   "cell_type": "markdown",
   "metadata": {},
   "source": [
    "# Q12:"
   ]
  },
  {
   "cell_type": "markdown",
   "metadata": {},
   "source": [
    "Use a dictionary to store information about a person you know.\n",
    "Store their first name, last name, age, and the city in which they live. \n",
    "You should have keys such as first_name, last_name, age, and city. \n",
    "Print each piece of information stored in your dictionary"
   ]
  },
  {
   "cell_type": "code",
   "execution_count": 79,
   "metadata": {},
   "outputs": [],
   "source": [
    "information={'first_name:':'Muhammad','last_name:':'Afroz','age:':'18','city:':'Karachi'}"
   ]
  },
  {
   "cell_type": "code",
   "execution_count": 80,
   "metadata": {},
   "outputs": [
    {
     "name": "stdout",
     "output_type": "stream",
     "text": [
      "first_name: Muhammad\n",
      "last_name: Afroz\n",
      "age: 18\n",
      "city: Karachi\n"
     ]
    }
   ],
   "source": [
    "for k,v in information.items():\n",
    "    print (k,v)"
   ]
  },
  {
   "cell_type": "markdown",
   "metadata": {},
   "source": [
    "# Q13:"
   ]
  },
  {
   "cell_type": "markdown",
   "metadata": {},
   "source": [
    "Starts with your last question 12 , loop through the dictionary’s keys and values.\n",
    "When you’re sure that your loop works, add five more Python terms to your\n",
    "dictionary . When you run your program again, these new words and meanings\n",
    "should automatically be included in the output."
   ]
  },
  {
   "cell_type": "code",
   "execution_count": 104,
   "metadata": {},
   "outputs": [],
   "source": [
    "information={'first_name:':'Muhammad','last_name:':'Afroz','age:':'18','city:':'Karachi'}"
   ]
  },
  {
   "cell_type": "code",
   "execution_count": 105,
   "metadata": {},
   "outputs": [
    {
     "name": "stdout",
     "output_type": "stream",
     "text": [
      "first_name: Muhammad\n",
      "last_name: Afroz\n",
      "age: 18\n",
      "city: Karachi\n"
     ]
    }
   ],
   "source": [
    "for k,v in information.items():\n",
    "    print (k,v)"
   ]
  },
  {
   "cell_type": "code",
   "execution_count": 106,
   "metadata": {},
   "outputs": [],
   "source": [
    "information[\"status\"]=\"Single\"\n",
    "information[\"car\"]=\"Honda civic\"\n",
    "information[\"work\"]=\"Entrepreneur\"\n",
    "information[\"favourite place\"]=\"Turkey\"\n",
    "information[\"favourite color\"]=\"Purple\""
   ]
  },
  {
   "cell_type": "code",
   "execution_count": 107,
   "metadata": {},
   "outputs": [
    {
     "name": "stdout",
     "output_type": "stream",
     "text": [
      "first_name:: Muhammad\n",
      "last_name:: Afroz\n",
      "age:: 18\n",
      "city:: Karachi\n",
      "status: Single\n",
      "car: Honda civic\n",
      "work: Entrepreneur\n",
      "favourite place: Turkey\n",
      "favourite color: Purple\n"
     ]
    }
   ],
   "source": [
    "for keys,values in information.items():\n",
    "    print(f\"{keys}: {values}\")"
   ]
  },
  {
   "cell_type": "markdown",
   "metadata": {},
   "source": [
    "# Q14:"
   ]
  },
  {
   "cell_type": "markdown",
   "metadata": {},
   "source": [
    "Make a dictionary containing three major rivers and the country\n",
    "each river runs through. One key-value pair might be 'nile': 'egypt'.\n",
    "    \n",
    "    \n",
    "•\t Use a loop to print a sentence about each river, such as The Nile runs\n",
    "through Egypt.\n",
    "\n",
    "NOTE: use upper case through keys and values."
   ]
  },
  {
   "cell_type": "code",
   "execution_count": 108,
   "metadata": {},
   "outputs": [],
   "source": [
    "rivers = {\"nile\": \"egypt\",\"amazon\": \"brazil\",\"yangtze\": \"china\"}"
   ]
  },
  {
   "cell_type": "code",
   "execution_count": 109,
   "metadata": {},
   "outputs": [
    {
     "name": "stdout",
     "output_type": "stream",
     "text": [
      "The  NILE runs through   EGYPT .\n",
      "The  AMAZON runs through   BRAZIL .\n",
      "The  YANGTZE runs through   CHINA .\n"
     ]
    }
   ],
   "source": [
    "for river, country in rivers.items():\n",
    "    print(f'The  {river.upper()} runs through   {country.upper()} .')"
   ]
  },
  {
   "cell_type": "markdown",
   "metadata": {},
   "source": [
    "Make several dictionaries, where the name of each dictionary is the\n",
    "name of a pet. In each dictionary, include the kind of animal and the owner’s\n",
    "name. Store these dictionaries in a list called pets. Next, loop through your list\n",
    "and as you do print everything you know about each pet."
   ]
  },
  {
   "cell_type": "code",
   "execution_count": 113,
   "metadata": {},
   "outputs": [
    {
     "name": "stdout",
     "output_type": "stream",
     "text": [
      "kind: mammal\n",
      "owner_name: Herry\n",
      "\n",
      "kind: germon shepherd\n",
      "owner_name: Jack\n",
      "\n",
      "kind: bird\n",
      "owner_name: Thomson\n",
      "\n"
     ]
    }
   ],
   "source": [
    "cat = {\"kind\": \"mammal\", \"owner_name\": \"Herry\"}\n",
    "\n",
    "dog = {\"kind\": \"germon shepherd\",\"owner_name\": \"Jack\"}\n",
    "\n",
    "parrot = {\"kind\": \"bird\",\"owner_name\": \"Thomson\"}\n",
    "\n",
    "pets = [cat, dog, parrot]\n",
    "\n",
    "for pet in pets:\n",
    "    for key, value in pet.items():\n",
    "        print(key + \": \" + value)\n",
    "    print()"
   ]
  }
 ],
 "metadata": {
  "kernelspec": {
   "display_name": "Python 3",
   "language": "python",
   "name": "python3"
  },
  "language_info": {
   "codemirror_mode": {
    "name": "ipython",
    "version": 3
   },
   "file_extension": ".py",
   "mimetype": "text/x-python",
   "name": "python",
   "nbconvert_exporter": "python",
   "pygments_lexer": "ipython3",
   "version": "3.6.4"
  }
 },
 "nbformat": 4,
 "nbformat_minor": 2
}
